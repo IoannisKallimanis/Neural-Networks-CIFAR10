{
 "cells": [
  {
   "cell_type": "code",
   "execution_count": 2,
   "id": "e651ac23",
   "metadata": {},
   "outputs": [
    {
     "name": "stdout",
     "output_type": "stream",
     "text": [
      "The accuracy of the Nearest Centroid is: 27.74%\n",
      "The accuracy of k Nearest Neighboor with k = 1 is 35.39%\n",
      "The accuracy of k Nearest Neighboor with k = 3 is 33.03%\n"
     ]
    }
   ],
   "source": [
    "import numpy as np\n",
    "from sklearn.neighbors import NearestCentroid\n",
    "from sklearn.metrics import accuracy_score\n",
    "from sklearn.neighbors import KNeighborsClassifier\n",
    "import concurrent.futures\n",
    "import os\n",
    "\n",
    "\n",
    "os.environ[\"LOKY_MAX_CPU_COUNT\"] = str(os.cpu_count())\n",
    "\n",
    "\n",
    "def unpickle(file):\n",
    "    import pickle\n",
    "    with open(file, 'rb') as fo:\n",
    "        data = pickle.load(fo, encoding='bytes')\n",
    "    return data\n",
    "\n",
    "def centroid_function(train_data, train_labels, test_data, test_labels):\n",
    "    clf = NearestCentroid()\n",
    "    clf.fit(train_data, train_labels)\n",
    "    predictions = clf.predict(test_data)\n",
    "    return accuracy_score(test_labels, predictions)\n",
    "\n",
    "def knn_function(train_data, train_labels, test_data, test_labels, k):\n",
    "    clf = KNeighborsClassifier(n_neighbors=k)\n",
    "    clf.fit(train_data, train_labels)\n",
    "    predictions = clf.predict(test_data)\n",
    "    return accuracy_score(test_labels, predictions)\n",
    "\n",
    "def parallel_knn(k, train_data, train_labels, test_data, test_labels):\n",
    "    with concurrent.futures.ThreadPoolExecutor() as executor:\n",
    "        futures = [executor.submit(knn_function, train_data, train_labels, test_data, test_labels, k)]\n",
    "        results = [future.result() for future in concurrent.futures.as_completed(futures)]\n",
    "\n",
    "    return results[0]\n",
    "\n",
    "if __name__ == \"__main__\":\n",
    "    train_paths = ('data_batch_1', 'data_batch_2', 'data_batch_3', 'data_batch_4', 'data_batch_5')\n",
    "    test_path = 'test_batch'\n",
    "\n",
    "    train_data = {}\n",
    "    test_data = unpickle(test_path)\n",
    "\n",
    "    for i in train_paths:\n",
    "        train_data[i] = unpickle(i)\n",
    "\n",
    "    train_labels = np.concatenate([train_data[key][b'labels'] for key in train_data.keys()])\n",
    "    train_data = np.concatenate([train_data[key][b'data'] for key in train_data.keys()])\n",
    "\n",
    "    test_labels = np.concatenate([test_data[b'labels'] for key in test_data.keys()])\n",
    "    test_data = np.concatenate([test_data[b'data'] for key in test_data.keys()])\n",
    "\n",
    "    unique_labels = np.unique(train_labels)\n",
    "\n",
    "    tdata = []\n",
    "\n",
    "    for label in unique_labels:\n",
    "        mask = (train_labels == label)\n",
    "        data_for_label = train_data[mask]\n",
    "        tdata.append(data_for_label)\n",
    "\n",
    "    print(\"The accuracy of the Nearest Centroid is: \" + str(centroid_function(train_data, train_labels, test_data, test_labels) * 100) + \"%\")\n",
    "    k_list = [1, 3]\n",
    "    \n",
    "    results = []\n",
    "    for k in k_list:\n",
    "        result = parallel_knn(k, train_data, train_labels, test_data, test_labels)\n",
    "        results.append(result)\n",
    "        print(f\"The accuracy of k Nearest Neighboor with k = {k} is {result * 100}%\")\n"
   ]
  },
  {
   "cell_type": "code",
   "execution_count": null,
   "id": "37c5428e",
   "metadata": {},
   "outputs": [],
   "source": []
  }
 ],
 "metadata": {
  "kernelspec": {
   "display_name": "Python 3 (ipykernel)",
   "language": "python",
   "name": "python3"
  },
  "language_info": {
   "codemirror_mode": {
    "name": "ipython",
    "version": 3
   },
   "file_extension": ".py",
   "mimetype": "text/x-python",
   "name": "python",
   "nbconvert_exporter": "python",
   "pygments_lexer": "ipython3",
   "version": "3.11.5"
  }
 },
 "nbformat": 4,
 "nbformat_minor": 5
}
